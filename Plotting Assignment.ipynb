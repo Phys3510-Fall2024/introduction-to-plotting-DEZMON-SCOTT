{
 "cells": [
  {
   "cell_type": "code",
   "execution_count": 1,
   "id": "d4bcf518-fc3f-42ff-9383-3221c2326ec1",
   "metadata": {},
   "outputs": [],
   "source": [
    "#Import libraries\n",
    "import numpy as np\n",
    "import matplotlib.pyplot as plt\n",
    "import ipywidgets as widgets\n",
    "from ipywidgets import interact, FloatSlider, IntSlider"
   ]
  },
  {
   "cell_type": "code",
   "execution_count": 4,
   "id": "199c26fd-9a4d-4c3c-9b13-97a15fb3d7a1",
   "metadata": {},
   "outputs": [],
   "source": [
    "def U(Q1, Q2, K1=1, K2=1, C=0):\n",
    "    return 0.5 * K1 * Q1**2 + 0.5 * K2 * Q2**2 + C * Q1 * Q2**2\n",
    "\n",
    "def plot_energy(K1=1, K2=1, C=0):\n",
    "    # Generate Q1 and Q2 ranges\n",
    "    Q1 = np.linspace(-5, 5, 500)\n",
    "    Q2_fixed_values = [-3, -1, 0, 1, 3]\n",
    "    \n",
    "    # Create figure with two side-by-side panels\n",
    "    fig, axes = plt.subplots(1, 2, figsize=(12, 5))\n",
    "    \n",
    "    # Panel 1: Plot U(Q1, Q2) for fixed Q2 values\n",
    "    for Q2 in Q2_fixed_values:\n",
    "        U_vals = U(Q1, Q2, K1, K2, C)\n",
    "        axes[0].plot(Q1, U_vals, label=f\"Q2 = {Q2}\")\n",
    "    axes[0].set_title(\"Energy for fixed Q2 values\")\n",
    "    axes[0].set_xlabel(\"Q1\")\n",
    "    axes[0].set_ylabel(\"U(Q1, Q2)\")\n",
    "    axes[0].legend()\n",
    "    \n",
    "    # Panel 2: Contour plot of U(Q1, Q2)\n",
    "    Q1_grid, Q2_grid = np.meshgrid(np.linspace(-5, 5, 100), np.linspace(-5, 5, 100))\n",
    "    U_grid = U(Q1_grid, Q2_grid, K1, K2, C)\n",
    "    contour = axes[1].contourf(Q1_grid, Q2_grid, U_grid, levels=50, cmap=\"viridis\")\n",
    "    fig.colorbar(contour, ax=axes[1])\n",
    "    axes[1].set_title(\"Contour plot of U(Q1, Q2)\")\n",
    "    axes[1].set_xlabel(\"Q1\")\n",
    "    axes[1].set_ylabel(\"Q2\")\n",
    "    \n",
    "    # Adjust layout\n",
    "    plt.tight_layout()\n",
    "    plt.show()\n"
   ]
  },
  {
   "cell_type": "code",
   "execution_count": 5,
   "id": "36dac08b-5af0-4f31-819e-3ea6dec0438a",
   "metadata": {},
   "outputs": [
    {
     "data": {
      "application/vnd.jupyter.widget-view+json": {
       "model_id": "3295bc62718945d6a41add0f7f22114d",
       "version_major": 2,
       "version_minor": 0
      },
      "text/plain": [
       "interactive(children=(FloatSlider(value=1.0, description='K1', max=5.0, min=0.1), FloatSlider(value=1.0, descr…"
      ]
     },
     "metadata": {},
     "output_type": "display_data"
    },
    {
     "data": {
      "text/plain": [
       "<function __main__.plot_energy(K1=1, K2=1, C=0)>"
      ]
     },
     "execution_count": 5,
     "metadata": {},
     "output_type": "execute_result"
    }
   ],
   "source": [
    "# Interactive environment using ipywidgets\n",
    "interact(\n",
    "    plot_energy,\n",
    "    K1=FloatSlider(value=1, min=0.1, max=5, step=0.1, description='K1'),\n",
    "    K2=FloatSlider(value=1, min=0.1, max=5, step=0.1, description='K2'),\n",
    "    C=FloatSlider(value=0, min=-2, max=2, step=0.1, description='C')\n",
    ")\n"
   ]
  },
  {
   "cell_type": "markdown",
   "id": "dd186fcd-d568-4381-9c2e-466a40dedc86",
   "metadata": {},
   "source": [
    "**Analysis**\n",
    "1. Increasing $C$ will introduce the coupling term which will cause the energy to tilt and deform.\n",
    "2. Yes, the coupling term makes it so that the force on $Q_1$ depends explicitily on $Q_2$\n",
    "3. Driving $Q_2$ will introduce oscillatory effects on $Q_1$\n",
    "4. Kicking $Q_1$ away from equilibrium will most likely casue $Q_2$ to be moved fro equilibrium as well.\n"
   ]
  },
  {
   "cell_type": "code",
   "execution_count": null,
   "id": "aa272a88-06bb-4a79-9b4b-3f7a9d1bac40",
   "metadata": {},
   "outputs": [],
   "source": []
  }
 ],
 "metadata": {
  "kernelspec": {
   "display_name": "Python 3 (ipykernel)",
   "language": "python",
   "name": "python3"
  },
  "language_info": {
   "codemirror_mode": {
    "name": "ipython",
    "version": 3
   },
   "file_extension": ".py",
   "mimetype": "text/x-python",
   "name": "python",
   "nbconvert_exporter": "python",
   "pygments_lexer": "ipython3",
   "version": "3.9.20"
  }
 },
 "nbformat": 4,
 "nbformat_minor": 5
}
